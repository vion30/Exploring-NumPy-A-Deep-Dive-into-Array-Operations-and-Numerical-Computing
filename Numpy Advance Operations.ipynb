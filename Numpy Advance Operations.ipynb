{
 "cells": [
  {
   "cell_type": "code",
   "execution_count": 8,
   "id": "0a17b649-f525-4588-80f2-d5331e4c6012",
   "metadata": {},
   "outputs": [
    {
     "name": "stdout",
     "output_type": "stream",
     "text": [
      "Requirement already satisfied: numpy in a:\\educational\\data science\\anaconda\\lib\\site-packages (1.26.4)\n",
      "Note: you may need to restart the kernel to use updated packages.\n"
     ]
    }
   ],
   "source": [
    "pip install numpy"
   ]
  },
  {
   "cell_type": "code",
   "execution_count": 3,
   "id": "d5d28ea2-2034-421a-b318-069a65c86c16",
   "metadata": {},
   "outputs": [],
   "source": [
    "import numpy as np  "
   ]
  },
  {
   "cell_type": "code",
   "execution_count": 16,
   "id": "f88891e2-8c79-450b-b262-94bcca10bfff",
   "metadata": {},
   "outputs": [
    {
     "name": "stdout",
     "output_type": "stream",
     "text": [
      "<class 'numpy.ndarray'>\n",
      "[1 2 3 4 5]\n"
     ]
    },
    {
     "data": {
      "text/plain": [
       "dtype('int32')"
      ]
     },
     "execution_count": 16,
     "metadata": {},
     "output_type": "execute_result"
    }
   ],
   "source": [
    "arr = np.array([1,2,3,4,5]) # 1. using list\n",
    "print(type(arr))\n",
    "print(arr)\n",
    "arr.dtype"
   ]
  },
  {
   "cell_type": "code",
   "execution_count": 18,
   "id": "51738e90-f407-4c7d-91a8-8c6d3abf4c83",
   "metadata": {},
   "outputs": [
    {
     "name": "stdout",
     "output_type": "stream",
     "text": [
      "[1 2 3 4 5]\n"
     ]
    }
   ],
   "source": [
    "arr = np.array((1, 2, 3, 4, 5)) # 2. using a tuple\n",
    "print(arr)"
   ]
  },
  {
   "cell_type": "code",
   "execution_count": 28,
   "id": "f4f60870-74b6-47a9-9943-fb23be5b959e",
   "metadata": {},
   "outputs": [
    {
     "name": "stdout",
     "output_type": "stream",
     "text": [
      "[[[0. 0. 0. 0.]\n",
      "  [0. 0. 0. 0.]\n",
      "  [0. 0. 0. 0.]\n",
      "  [0. 0. 0. 0.]\n",
      "  [0. 0. 0. 0.]]\n",
      "\n",
      " [[0. 0. 0. 0.]\n",
      "  [0. 0. 0. 0.]\n",
      "  [0. 0. 0. 0.]\n",
      "  [0. 0. 0. 0.]\n",
      "  [0. 0. 0. 0.]]\n",
      "\n",
      " [[0. 0. 0. 0.]\n",
      "  [0. 0. 0. 0.]\n",
      "  [0. 0. 0. 0.]\n",
      "  [0. 0. 0. 0.]\n",
      "  [0. 0. 0. 0.]]\n",
      "\n",
      " [[0. 0. 0. 0.]\n",
      "  [0. 0. 0. 0.]\n",
      "  [0. 0. 0. 0.]\n",
      "  [0. 0. 0. 0.]\n",
      "  [0. 0. 0. 0.]]\n",
      "\n",
      " [[0. 0. 0. 0.]\n",
      "  [0. 0. 0. 0.]\n",
      "  [0. 0. 0. 0.]\n",
      "  [0. 0. 0. 0.]\n",
      "  [0. 0. 0. 0.]]]\n"
     ]
    },
    {
     "data": {
      "text/plain": [
       "3"
      ]
     },
     "execution_count": 28,
     "metadata": {},
     "output_type": "execute_result"
    }
   ],
   "source": [
    "arr = np.zeros((5,5,4)) # 3. using zeros function \n",
    "print (arr)\n",
    "arr.ndim"
   ]
  },
  {
   "cell_type": "code",
   "execution_count": 32,
   "id": "36af2105-33b8-494e-a3ef-2722fe819a56",
   "metadata": {},
   "outputs": [
    {
     "name": "stdout",
     "output_type": "stream",
     "text": [
      "[[[1. 1. 1. 1. 1.]\n",
      "  [1. 1. 1. 1. 1.]]\n",
      "\n",
      " [[1. 1. 1. 1. 1.]\n",
      "  [1. 1. 1. 1. 1.]]\n",
      "\n",
      " [[1. 1. 1. 1. 1.]\n",
      "  [1. 1. 1. 1. 1.]]\n",
      "\n",
      " [[1. 1. 1. 1. 1.]\n",
      "  [1. 1. 1. 1. 1.]]\n",
      "\n",
      " [[1. 1. 1. 1. 1.]\n",
      "  [1. 1. 1. 1. 1.]]]\n"
     ]
    }
   ],
   "source": [
    "arr = np.ones((5,2,5)) #4. using ones function\n",
    "print(arr)"
   ]
  },
  {
   "cell_type": "code",
   "execution_count": 34,
   "id": "6a6fd98d-d6f6-4f7f-8f69-acff081b70cd",
   "metadata": {},
   "outputs": [
    {
     "name": "stdout",
     "output_type": "stream",
     "text": [
      "[1 3 5 7 9]\n"
     ]
    }
   ],
   "source": [
    "arr = np.arange(1,10,2) #5. using arange \n",
    "print (arr) \n",
    "# difference between range and arange function"
   ]
  },
  {
   "cell_type": "code",
   "execution_count": 40,
   "id": "2b770b0b-59c3-49b3-b411-dc1958e0c4f2",
   "metadata": {},
   "outputs": [
    {
     "name": "stdout",
     "output_type": "stream",
     "text": [
      "[1.  1.1 1.2 1.3 1.4 1.5 1.6 1.7 1.8 1.9]\n"
     ]
    },
    {
     "ename": "TypeError",
     "evalue": "'float' object cannot be interpreted as an integer",
     "output_type": "error",
     "traceback": [
      "\u001b[1;31m---------------------------------------------------------------------------\u001b[0m",
      "\u001b[1;31mTypeError\u001b[0m                                 Traceback (most recent call last)",
      "Cell \u001b[1;32mIn[40], line 4\u001b[0m\n\u001b[0;32m      1\u001b[0m arr \u001b[38;5;241m=\u001b[39m np\u001b[38;5;241m.\u001b[39marange(\u001b[38;5;241m1\u001b[39m,\u001b[38;5;241m2\u001b[39m,\u001b[38;5;241m0.1\u001b[39m)\n\u001b[0;32m      2\u001b[0m \u001b[38;5;28mprint\u001b[39m (arr) \n\u001b[1;32m----> 4\u001b[0m a \u001b[38;5;241m=\u001b[39m \u001b[38;5;28mrange\u001b[39m(\u001b[38;5;241m1\u001b[39m,\u001b[38;5;241m2\u001b[39m, \u001b[38;5;241m0.1\u001b[39m)\n",
      "\u001b[1;31mTypeError\u001b[0m: 'float' object cannot be interpreted as an integer"
     ]
    }
   ],
   "source": [
    "arr = np.arange(1,2,0.1)\n",
    "print (arr) \n",
    "\n",
    "a = range(1,2, 0.1)"
   ]
  },
  {
   "cell_type": "code",
   "execution_count": 48,
   "id": "8754531e-9c5f-4abd-afb5-cae99e79c2e6",
   "metadata": {},
   "outputs": [
    {
     "name": "stdout",
     "output_type": "stream",
     "text": [
      "[ 1  3  5  7 10]\n"
     ]
    }
   ],
   "source": [
    "arr= np.linspace(1,10,5).astype('int32') # 6. using linspace \n",
    "print (arr)\n",
    "# difference between linespace and arange "
   ]
  },
  {
   "cell_type": "code",
   "execution_count": 11,
   "id": "db7f6497-7fdb-432f-8691-8589b99efdd6",
   "metadata": {},
   "outputs": [
    {
     "name": "stdout",
     "output_type": "stream",
     "text": [
      "[[0. 1.]\n",
      " [1. 1.]]\n",
      "[[1. 1.]\n",
      " [1. 1.]]\n"
     ]
    }
   ],
   "source": [
    "# copy an array\n",
    "arr = np.ones((2,2))\n",
    "c = np.copy(arr)\n",
    "arr[0][0] = 0\n",
    "print (arr)\n",
    "print (c)"
   ]
  },
  {
   "cell_type": "code",
   "execution_count": 52,
   "id": "07ca8101-6dfa-4ec9-ba67-cfb07aaf8523",
   "metadata": {},
   "outputs": [],
   "source": [
    "arr = np.array([[1, 2, 3], [4, 5, 6]]) # 2 dimensional array\n",
    "#  to check the number of dimensions  "
   ]
  },
  {
   "cell_type": "code",
   "execution_count": 58,
   "id": "c5b0f4ad-2842-481c-9beb-c6818e9993ce",
   "metadata": {},
   "outputs": [
    {
     "name": "stdout",
     "output_type": "stream",
     "text": [
      "0\n",
      "1\n",
      "2\n",
      "3\n"
     ]
    }
   ],
   "source": [
    "a = np.array(42) \n",
    "b = np.array([1, 2, 3, 4, 5.0])\n",
    "c = np.array([[1, 2, 3], [4, 5, 6]])\n",
    "d = np.array([[[1, 2, 3], [4, 5, 6]], [[1, 2, 3], [4, 5, 6]]])\n",
    "\n",
    "print(a.ndim)\n",
    "print(b.ndim)\n",
    "print(c.ndim)\n",
    "print(d.ndim)"
   ]
  },
  {
   "cell_type": "code",
   "execution_count": 60,
   "id": "54e87be0-5ad5-4fd8-bccd-dc4ec17c673b",
   "metadata": {},
   "outputs": [
    {
     "name": "stdout",
     "output_type": "stream",
     "text": [
      "3\n",
      "(2, 2, 3)\n",
      "12\n",
      "int32\n",
      "4\n"
     ]
    }
   ],
   "source": [
    "# to check the properties of the array\n",
    "# 2. ndarray.shape\n",
    "print(d.ndim)\n",
    "print (d.shape)\n",
    "print(d.size)\n",
    "print(d.dtype)\n",
    "print (d.itemsize)"
   ]
  },
  {
   "cell_type": "code",
   "execution_count": 18,
   "id": "dd5ab0c5-f90a-467c-bdb6-a34932fe4510",
   "metadata": {},
   "outputs": [
    {
     "name": "stdout",
     "output_type": "stream",
     "text": [
      "[[[[[1 2 3 4]]]]]\n",
      "5\n"
     ]
    }
   ],
   "source": [
    "# to create an array of 5 dimens \n",
    "arr = np.array([1, 2, 3, 4], ndmin=5) # use ndmin\n",
    "print(arr)\n",
    "print(arr.ndim)"
   ]
  },
  {
   "cell_type": "code",
   "execution_count": 62,
   "id": "0e57f2ef-d749-4dd8-9737-25e1b9b82c93",
   "metadata": {},
   "outputs": [
    {
     "name": "stdout",
     "output_type": "stream",
     "text": [
      "[[[[[1 2 3 4]]]]]\n",
      "shape of array : (1, 1, 1, 1, 4)\n"
     ]
    }
   ],
   "source": [
    "arr = np.array([1, 2, 3, 4], ndmin=5)\n",
    "print(arr) \n",
    "print('shape of array :', arr.shape) # what will be the output?"
   ]
  },
  {
   "cell_type": "code",
   "execution_count": 20,
   "id": "86e6d5dd-3c37-40aa-97b8-73a13949184a",
   "metadata": {},
   "outputs": [
    {
     "name": "stdout",
     "output_type": "stream",
     "text": [
      "[[ 1  2  3]\n",
      " [ 4  5  6]\n",
      " [ 7  8  9]\n",
      " [10 11 12]]\n"
     ]
    }
   ],
   "source": [
    "# #reshaping an array: changing the shape of array\n",
    "arr = np.array([1, 2, 3, 4, 5, 6, 7, 8, 9, 10, 11,12])\n",
    "newarr = arr.reshape(4, 3)\n",
    "print(newarr)"
   ]
  },
  {
   "cell_type": "code",
   "execution_count": 21,
   "id": "ec8f3120-9261-4ae3-8056-a2994141069b",
   "metadata": {},
   "outputs": [
    {
     "name": "stdout",
     "output_type": "stream",
     "text": [
      "[[[ 1  2]\n",
      "  [ 3  4]\n",
      "  [ 5  6]]\n",
      "\n",
      " [[ 7  8]\n",
      "  [ 9 10]\n",
      "  [11 12]]]\n"
     ]
    }
   ],
   "source": [
    "# convert into 3D array\n",
    "arr = np.array([1, 2, 3, 4, 5, 6, 7, 8, 9, 10, 11, 12])\n",
    "newarr = arr.reshape(2, 3, 2)\n",
    "print(newarr)"
   ]
  },
  {
   "cell_type": "code",
   "execution_count": 76,
   "id": "e439cb57-58d4-426e-9147-0f84d03e9be7",
   "metadata": {},
   "outputs": [
    {
     "name": "stdout",
     "output_type": "stream",
     "text": [
      "(2, 3)\n",
      "[1 2 3 4 5 6]\n"
     ]
    }
   ],
   "source": [
    "#flattening the array\n",
    "arr = np.array([[1, 2, 3], [4, 5, 6]])\n",
    "print(arr.shape)\n",
    "newarr = arr.reshape(-1)\n",
    "print(newarr)"
   ]
  },
  {
   "cell_type": "code",
   "execution_count": 5,
   "id": "90313e86-4fe4-4ec8-b768-146eb0d4ee51",
   "metadata": {},
   "outputs": [
    {
     "name": "stdout",
     "output_type": "stream",
     "text": [
      "[ 0  1  2  3  4  5  6  7  8  9 10 11 12 13 14]\n",
      "[[ 0  1  2  3  4]\n",
      " [ 5  6  7  8  9]\n",
      " [10 11 12 13 14]]\n",
      "[0.         0.11111111 0.22222222 0.33333333 0.44444444 0.55555556\n",
      " 0.66666667 0.77777778 0.88888889 1.        ]\n",
      "(15,)\n",
      "(3, 5)\n",
      "(10,)\n"
     ]
    }
   ],
   "source": [
    "# **Using `arange`, `linspace`, and `reshape`:**\n",
    "# - Create a NumPy array using `arange` that contains values from 0 to 15. Reshape this array into a 3x5 matrix. Next,\n",
    "# create another NumPy array using `linspace` that contains 10 evenly spaced values between 0 and 1. Print both arrays and their shapes.\n",
    "\n",
    "arr = np.arange(0,15)\n",
    "newarr = arr.reshape(3,5)\n",
    "a = np.linspace(0,1,10)\n",
    "print(arr)\n",
    "print(newarr)\n",
    "print(a)\n",
    "print(arr.shape)\n",
    "print(newarr.shape)\n",
    "print(a.shape)"
   ]
  },
  {
   "cell_type": "code",
   "execution_count": 11,
   "id": "134f2dfa-978e-4365-9d51-cc81674b0470",
   "metadata": {},
   "outputs": [
    {
     "name": "stdout",
     "output_type": "stream",
     "text": [
      "[[250 300 450]\n",
      " [500 600 650]\n",
      " [700 750 800]\n",
      " [850 900 950]]\n",
      "250\n",
      "550\n",
      "1000\n",
      "The total sales in 0 is 1000\n",
      "1500\n",
      "2100\n",
      "2750\n",
      "The total sales in 1 is 2750\n",
      "3450\n",
      "4200\n",
      "5000\n",
      "The total sales in 2 is 5000\n",
      "5850\n",
      "6750\n",
      "7700\n",
      "The total sales in 3 is 7700\n",
      "[1000 2750 5000 7700]\n"
     ]
    }
   ],
   "source": [
    "#    **Data Transformation and Analysis:**\n",
    "#    - You have a dataset containing sales figures for 12 months stored in a flat list: `[250, 300, 450, 500, 600, 650, 700, 750, 800, 850, 900, 950]`. \n",
    "#    - Use NumPy to reshape this data into a 4x3 matrix representing quarterly sales (each row is a quarter, and each column is a month).\n",
    "#    - Calculate the total sales for each quarter and store them in a new NumPy array. \n",
    "#    - Print the reshaped matrix and the total sales for each quarter.\n",
    "\n",
    "import numpy as np\n",
    "\n",
    "sales = np.array([250, 300, 450, 500, 600, 650, 700, 750, 800, 850, 900, 950])\n",
    "detail_sales = sales.reshape(4,3)\n",
    "print(detail_sales)\n",
    "sum = 0\n",
    "count = 0\n",
    "quater = 0\n",
    "total_sales = np.array([0,0,0,0])\n",
    "def total(detail_sales):\n",
    "    global quater \n",
    "    global sum \n",
    "    global count\n",
    "    global total_sales\n",
    "    for i in range(0,4):\n",
    "        while count < 3:\n",
    "            sum = sum + detail_sales[i][count]\n",
    "            print(sum)\n",
    "            count+= 1\n",
    "\n",
    "        print(f\"The total sales in {i} is {sum}\")\n",
    "        total_sales[i] = sum\n",
    "        count=0\n",
    "    return \n",
    "\n",
    "total(detail_sales)\n",
    "\n",
    "print(total_sales)\n"
   ]
  }
 ],
 "metadata": {
  "kernelspec": {
   "display_name": "Python 3 (ipykernel)",
   "language": "python",
   "name": "python3"
  },
  "language_info": {
   "codemirror_mode": {
    "name": "ipython",
    "version": 3
   },
   "file_extension": ".py",
   "mimetype": "text/x-python",
   "name": "python",
   "nbconvert_exporter": "python",
   "pygments_lexer": "ipython3",
   "version": "3.12.4"
  }
 },
 "nbformat": 4,
 "nbformat_minor": 5
}
