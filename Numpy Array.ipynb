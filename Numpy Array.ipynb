{
 "cells": [
  {
   "cell_type": "code",
   "execution_count": 3,
   "id": "f1b1d846",
   "metadata": {},
   "outputs": [
    {
     "name": "stdout",
     "output_type": "stream",
     "text": [
      "Requirement already satisfied: numpy in d:\\software\\new folder\\lib\\site-packages (1.26.4)\n",
      "Note: you may need to restart the kernel to use updated packages.\n"
     ]
    }
   ],
   "source": [
    "pip install numpy "
   ]
  },
  {
   "cell_type": "code",
   "execution_count": 4,
   "id": "da64909f",
   "metadata": {},
   "outputs": [],
   "source": [
    "#pip install numpy\n",
    "#NumPy library used for numerical computations and array operations.\n",
    "import numpy as np\n"
   ]
  },
  {
   "cell_type": "code",
   "execution_count": 7,
   "id": "607a1903",
   "metadata": {},
   "outputs": [
    {
     "data": {
      "text/plain": [
       "'1.26.4'"
      ]
     },
     "execution_count": 7,
     "metadata": {},
     "output_type": "execute_result"
    }
   ],
   "source": [
    "np.__version__"
   ]
  },
  {
   "cell_type": "code",
   "execution_count": 9,
   "id": "482ef740",
   "metadata": {},
   "outputs": [
    {
     "ename": "TypeError",
     "evalue": "unsupported operand type(s) for /: 'list' and 'list'",
     "output_type": "error",
     "traceback": [
      "\u001b[1;31m---------------------------------------------------------------------------\u001b[0m",
      "\u001b[1;31mTypeError\u001b[0m                                 Traceback (most recent call last)",
      "Cell \u001b[1;32mIn[9], line 4\u001b[0m\n\u001b[0;32m      2\u001b[0m total\u001b[38;5;241m=\u001b[39m [\u001b[38;5;241m100\u001b[39m,\u001b[38;5;241m100\u001b[39m,\u001b[38;5;241m100\u001b[39m]\n\u001b[0;32m      3\u001b[0m \u001b[38;5;66;03m# below element by element division does not work with lists\u001b[39;00m\n\u001b[1;32m----> 4\u001b[0m marks\u001b[38;5;241m/\u001b[39mtotal\n",
      "\u001b[1;31mTypeError\u001b[0m: unsupported operand type(s) for /: 'list' and 'list'"
     ]
    }
   ],
   "source": [
    "marks=[56,89,78]\n",
    "total= [100,100,100]\n",
    "# below element by element division does not work with lists\n",
    "marks/total"
   ]
  },
  {
   "cell_type": "code",
   "execution_count": 161,
   "id": "ed1a684c",
   "metadata": {},
   "outputs": [
    {
     "data": {
      "text/plain": [
       "array([56, 89, 78])"
      ]
     },
     "execution_count": 161,
     "metadata": {},
     "output_type": "execute_result"
    }
   ],
   "source": [
    "stdnt_marks=np.array([56,89,78])\n",
    "stdnt_marks"
   ]
  },
  {
   "cell_type": "code",
   "execution_count": 166,
   "id": "a8b4d359",
   "metadata": {},
   "outputs": [],
   "source": [
    "# 1 D Array\n",
    "total= np.array([100,100,100])"
   ]
  },
  {
   "cell_type": "code",
   "execution_count": 127,
   "id": "27dd88e1",
   "metadata": {},
   "outputs": [
    {
     "data": {
      "text/plain": [
       "array([0.56, 0.89, 0.78])"
      ]
     },
     "execution_count": 127,
     "metadata": {},
     "output_type": "execute_result"
    }
   ],
   "source": [
    "stdnt_marks/total"
   ]
  },
  {
   "cell_type": "code",
   "execution_count": 3,
   "id": "b67b5c67",
   "metadata": {},
   "outputs": [
    {
     "data": {
      "text/plain": [
       "array([56, 89, 78])"
      ]
     },
     "execution_count": 3,
     "metadata": {},
     "output_type": "execute_result"
    }
   ],
   "source": [
    "# Functions for Numpy Arrays\n",
    "stdnt_marks=np.array([56,89,78])\n",
    "stdnt_marks"
   ]
  },
  {
   "cell_type": "code",
   "execution_count": 4,
   "id": "c1cf97c9",
   "metadata": {},
   "outputs": [
    {
     "data": {
      "text/plain": [
       "dtype('int32')"
      ]
     },
     "execution_count": 4,
     "metadata": {},
     "output_type": "execute_result"
    }
   ],
   "source": [
    "stdnt_marks.dtype"
   ]
  },
  {
   "cell_type": "code",
   "execution_count": 5,
   "id": "3ef02b72",
   "metadata": {},
   "outputs": [
    {
     "data": {
      "text/plain": [
       "1"
      ]
     },
     "execution_count": 5,
     "metadata": {},
     "output_type": "execute_result"
    }
   ],
   "source": [
    "#dimention of an array\n",
    "stdnt_marks.ndim"
   ]
  },
  {
   "cell_type": "code",
   "execution_count": 6,
   "id": "1060b3e1",
   "metadata": {},
   "outputs": [
    {
     "data": {
      "text/plain": [
       "3"
      ]
     },
     "execution_count": 6,
     "metadata": {},
     "output_type": "execute_result"
    }
   ],
   "source": [
    "#size of each element\n",
    "stdnt_marks.size"
   ]
  },
  {
   "cell_type": "code",
   "execution_count": 7,
   "id": "5f127187",
   "metadata": {},
   "outputs": [
    {
     "data": {
      "text/plain": [
       "(3,)"
      ]
     },
     "execution_count": 7,
     "metadata": {},
     "output_type": "execute_result"
    }
   ],
   "source": [
    "stdnt_marks.shape"
   ]
  },
  {
   "cell_type": "code",
   "execution_count": 8,
   "id": "b5398935",
   "metadata": {},
   "outputs": [
    {
     "data": {
      "text/plain": [
       "4"
      ]
     },
     "execution_count": 8,
     "metadata": {},
     "output_type": "execute_result"
    }
   ],
   "source": [
    "stdnt_marks.itemsize"
   ]
  },
  {
   "cell_type": "code",
   "execution_count": 19,
   "id": "589f6578",
   "metadata": {},
   "outputs": [
    {
     "data": {
      "text/plain": [
       "array([[10,  3],\n",
       "       [15,  2],\n",
       "       [25,  2],\n",
       "       [30,  3]])"
      ]
     },
     "execution_count": 19,
     "metadata": {},
     "output_type": "execute_result"
    }
   ],
   "source": [
    "# Indexing 2 dimentional data\n",
    "data = np.array([[10,3],[15,2],[25,2],[30,3]],dtype='int32')\n",
    "data"
   ]
  },
  {
   "cell_type": "code",
   "execution_count": 4,
   "id": "61c91bb4",
   "metadata": {},
   "outputs": [
    {
     "data": {
      "text/plain": [
       "array([15,  2])"
      ]
     },
     "execution_count": 4,
     "metadata": {},
     "output_type": "execute_result"
    }
   ],
   "source": [
    "# 2D_array[row,cols]\n",
    "data[1,]"
   ]
  },
  {
   "cell_type": "code",
   "execution_count": 5,
   "id": "49c077bb",
   "metadata": {},
   "outputs": [
    {
     "data": {
      "text/plain": [
       "array([15,  2])"
      ]
     },
     "execution_count": 5,
     "metadata": {},
     "output_type": "execute_result"
    }
   ],
   "source": [
    "data[1,:]"
   ]
  },
  {
   "cell_type": "code",
   "execution_count": 20,
   "id": "6378e56e",
   "metadata": {},
   "outputs": [
    {
     "data": {
      "text/plain": [
       "array([[10],\n",
       "       [15]])"
      ]
     },
     "execution_count": 20,
     "metadata": {},
     "output_type": "execute_result"
    }
   ],
   "source": [
    "data[0:2,[0]]  #slicing the last index will be exclusive"
   ]
  },
  {
   "cell_type": "code",
   "execution_count": 140,
   "id": "bd0ef218",
   "metadata": {},
   "outputs": [
    {
     "data": {
      "text/plain": [
       "2"
      ]
     },
     "execution_count": 140,
     "metadata": {},
     "output_type": "execute_result"
    }
   ],
   "source": [
    "data[2,1]"
   ]
  },
  {
   "cell_type": "code",
   "execution_count": 141,
   "id": "a08ee528",
   "metadata": {},
   "outputs": [
    {
     "data": {
      "text/plain": [
       "2"
      ]
     },
     "execution_count": 141,
     "metadata": {},
     "output_type": "execute_result"
    }
   ],
   "source": [
    "data.ndim"
   ]
  },
  {
   "cell_type": "code",
   "execution_count": 169,
   "id": "06b0aee2",
   "metadata": {},
   "outputs": [
    {
     "data": {
      "text/plain": [
       "(4, 2)"
      ]
     },
     "execution_count": 169,
     "metadata": {},
     "output_type": "execute_result"
    }
   ],
   "source": [
    "data.shape"
   ]
  },
  {
   "cell_type": "markdown",
   "id": "2dee766c",
   "metadata": {},
   "source": [
    "### Introduction to numpy Array:"
   ]
  },
  {
   "cell_type": "code",
   "execution_count": 196,
   "id": "a1bc1af0",
   "metadata": {},
   "outputs": [
    {
     "data": {
      "text/plain": [
       "array([[1., 1., 1.],\n",
       "       [1., 1., 1.],\n",
       "       [1., 1., 1.]])"
      ]
     },
     "execution_count": 196,
     "metadata": {},
     "output_type": "execute_result"
    }
   ],
   "source": [
    "ones_arr = np.ones((3,3))\n",
    "ones_arr"
   ]
  },
  {
   "cell_type": "code",
   "execution_count": 149,
   "id": "c16eb454",
   "metadata": {},
   "outputs": [
    {
     "data": {
      "text/plain": [
       "array([[0.],\n",
       "       [0.]])"
      ]
     },
     "execution_count": 149,
     "metadata": {},
     "output_type": "execute_result"
    }
   ],
   "source": [
    "#ones() and zeros()\n",
    "zero_arr = np.zeros((2,1))\n",
    "zero_arr"
   ]
  },
  {
   "cell_type": "code",
   "execution_count": 6,
   "id": "7f849816",
   "metadata": {},
   "outputs": [
    {
     "name": "stdout",
     "output_type": "stream",
     "text": [
      "[1 2 3]\n"
     ]
    }
   ],
   "source": [
    "#The asarray() method in NumPy can be used to create an array from data that already exists\n",
    "## convert list to ndarray \n",
    "x = [1,2,3] \n",
    "a = np.asarray(x) \n",
    "print (a)"
   ]
  },
  {
   "cell_type": "code",
   "execution_count": 8,
   "id": "1bbe7697",
   "metadata": {},
   "outputs": [
    {
     "name": "stdout",
     "output_type": "stream",
     "text": [
      "[1 2 3]\n"
     ]
    }
   ],
   "source": [
    "x = [1,2,3] \n",
    "a1 = np.array(x) \n",
    "print (a1)"
   ]
  },
  {
   "cell_type": "code",
   "execution_count": 152,
   "id": "2877caf1",
   "metadata": {},
   "outputs": [
    {
     "name": "stdout",
     "output_type": "stream",
     "text": [
      "[1 2 3]\n"
     ]
    }
   ],
   "source": [
    "#From existing data array\n",
    "a = np.array([1,2,3])\n",
    "print(a)"
   ]
  },
  {
   "cell_type": "code",
   "execution_count": 8,
   "id": "7b187bb7",
   "metadata": {},
   "outputs": [
    {
     "name": "stdout",
     "output_type": "stream",
     "text": [
      "[[ 8  2  3]\n",
      " [ 4  7 13]]\n",
      "[[8 2 3]\n",
      " [4 7 6]]\n"
     ]
    }
   ],
   "source": [
    "#Copy Array using numpy.copy()\n",
    "# create a numpy array\n",
    "               0  1  2\n",
    "a = np.array([[8, 2, 3],   0\n",
    "              [4, 7, 6]])  1\n",
    "\n",
    "# copy contents of a to b\n",
    "b = a.copy()\n",
    "\n",
    "# modify a\n",
    "a[1, 2] = 13\n",
    "\n",
    "# check if b has remained the same\n",
    "print(a)\n",
    "print(b)"
   ]
  },
  {
   "cell_type": "code",
   "execution_count": 142,
   "id": "ddbd631c",
   "metadata": {},
   "outputs": [
    {
     "name": "stdout",
     "output_type": "stream",
     "text": [
      "[ 0  1  2  3  4  5  6  7  8  9 10 11 12 13 14 15 16 17 18 19]\n"
     ]
    }
   ],
   "source": [
    "#using numerical range arange()\n",
    "arr = np.arange(0,20)\n",
    "print(arr)"
   ]
  },
  {
   "cell_type": "code",
   "execution_count": 198,
   "id": "c7fa8fc7",
   "metadata": {},
   "outputs": [
    {
     "name": "stdout",
     "output_type": "stream",
     "text": [
      "Numpy multi dimensional array in python\n",
      " [[ 1  2  3  4]\n",
      " [ 5  6  7  8]\n",
      " [ 9 10 11 12]]\n"
     ]
    }
   ],
   "source": [
    "# importing numpy module\n",
    "import numpy as np\n",
    "\n",
    "# creating list\n",
    "list_1 = [1, 2, 3, 4]\n",
    "list_2 = [5, 6, 7, 8]\n",
    "list_3 = [9, 10, 11, 12]\n",
    "\n",
    "# creating numpy array\n",
    "sample_array = np.array([list_1,\n",
    "                        list_2,\n",
    "                        list_3])\n",
    "\n",
    "print(\"Numpy multi dimensional array in python\\n\",\n",
    "sample_array)\n"
   ]
  },
  {
   "cell_type": "code",
   "execution_count": 2,
   "id": "80174489",
   "metadata": {},
   "outputs": [
    {
     "name": "stdout",
     "output_type": "stream",
     "text": [
      "Shape of the array : (3, 4)\n"
     ]
    }
   ],
   "source": [
    "# print shape of the array\n",
    "print(\"Shape of the array :\",\n",
    "      sample_array.shape)"
   ]
  },
  {
   "cell_type": "code",
   "execution_count": 4,
   "id": "ade2db52",
   "metadata": {},
   "outputs": [
    {
     "name": "stdout",
     "output_type": "stream",
     "text": [
      "shape of the array : (5, 3)\n",
      "[[ 0  4  2]\n",
      " [ 3  4  5]\n",
      " [23  4  5]\n",
      " [ 2 34  5]\n",
      " [ 5  6  7]]\n"
     ]
    }
   ],
   "source": [
    "import numpy as np\n",
    "\n",
    "sample_array1 = np.array([[0, 4, 2],\n",
    "                         [3, 4, 5],\n",
    "                         [23, 4, 5],\n",
    "                         [2, 34, 5],\n",
    "                         [5, 6, 7]])\n",
    "\n",
    "print(\"shape of the array :\",sample_array1.shape)\n",
    "print(sample_array1)"
   ]
  },
  {
   "cell_type": "code",
   "execution_count": 6,
   "id": "ebcaf1f0",
   "metadata": {},
   "outputs": [
    {
     "name": "stdout",
     "output_type": "stream",
     "text": [
      "Data type of the array 1 : int32\n",
      "Data type of array 2 : float64\n",
      "[[0 4 2]]\n",
      "[0.2 0.4 2.4]\n"
     ]
    }
   ],
   "source": [
    "# Import module\n",
    "import numpy as np\n",
    "\n",
    "# Creating the array\n",
    "sample_array_1 = np.array([[0, 4, 2]])\n",
    "\n",
    "sample_array_2 = np.array([0.2, 0.4, 2.4])\n",
    "\n",
    "# display data type\n",
    "print(\"Data type of the array 1 :\",sample_array_1.dtype)\n",
    "\n",
    "print(\"Data type of array 2 :\",sample_array_2.dtype)\n",
    "\n",
    "print(sample_array_1)\n",
    "print(sample_array_2)"
   ]
  },
  {
   "cell_type": "code",
   "execution_count": 11,
   "id": "1ee16799",
   "metadata": {},
   "outputs": [
    {
     "data": {
      "text/plain": [
       "array([ 1.,  3.,  5.,  7.,  9., 11., 13., 15., 17., 19.], dtype=float32)"
      ]
     },
     "execution_count": 11,
     "metadata": {},
     "output_type": "execute_result"
    }
   ],
   "source": [
    "import numpy as np\n",
    "#numpy.arange(): This is an inbuilt NumPy function that returns evenly spaced values within a given interval.\n",
    "\n",
    "np.arange(1, 20 , 2,dtype = np.float32)\n",
    " "
   ]
  },
  {
   "cell_type": "code",
   "execution_count": 9,
   "id": "c125601b",
   "metadata": {},
   "outputs": [
    {
     "data": {
      "text/plain": [
       "array([ 1,  3,  5,  7,  9, 11, 13, 15, 17, 19])"
      ]
     },
     "execution_count": 9,
     "metadata": {},
     "output_type": "execute_result"
    }
   ],
   "source": [
    "np.arange(1, 20 , 2)"
   ]
  },
  {
   "cell_type": "code",
   "execution_count": 11,
   "id": "8e74d885",
   "metadata": {},
   "outputs": [
    {
     "data": {
      "text/plain": [
       "array([ 2.,  6., 10.])"
      ]
     },
     "execution_count": 11,
     "metadata": {},
     "output_type": "execute_result"
    }
   ],
   "source": [
    "#using numerical range linspace()\n",
    "#numpy.linspace(): This function returns evenly spaced numbers over a specified between two limits.\n",
    "\n",
    "\n",
    "np.linspace(2, 10, 3)\n"
   ]
  },
  {
   "cell_type": "code",
   "execution_count": 206,
   "id": "30b919fa",
   "metadata": {},
   "outputs": [
    {
     "data": {
      "text/plain": [
       "array([ 3,  6, 10])"
      ]
     },
     "execution_count": 206,
     "metadata": {},
     "output_type": "execute_result"
    }
   ],
   "source": [
    "import numpy as np\n",
    "\n",
    "np.linspace(3.5, 10, 3,dtype = np.int32)\n"
   ]
  },
  {
   "cell_type": "code",
   "execution_count": 12,
   "id": "1aa0f8a2",
   "metadata": {},
   "outputs": [
    {
     "data": {
      "text/plain": [
       "array([ 3.5 ,  6.75, 10.  ])"
      ]
     },
     "execution_count": 12,
     "metadata": {},
     "output_type": "execute_result"
    }
   ],
   "source": [
    "import numpy as np\n",
    "\n",
    "np.linspace(3.5, 10, 3)"
   ]
  },
  {
   "cell_type": "code",
   "execution_count": 178,
   "id": "9d5b6182",
   "metadata": {},
   "outputs": [
    {
     "data": {
      "text/plain": [
       "array([[1, 1, 1],\n",
       "       [1, 1, 1],\n",
       "       [1, 1, 1],\n",
       "       [1, 1, 1]])"
      ]
     },
     "execution_count": 178,
     "metadata": {},
     "output_type": "execute_result"
    }
   ],
   "source": [
    "#numpy.ones(): This function is used to get a new array of given shape and type, filled with ones(1).\n",
    "import numpy as np\n",
    "\n",
    "np.ones([4, 3],dtype = np.int32)\n"
   ]
  },
  {
   "cell_type": "code",
   "execution_count": 15,
   "id": "eda49f7f",
   "metadata": {},
   "outputs": [
    {
     "data": {
      "text/plain": [
       "array([[0, 0, 0],\n",
       "       [0, 0, 0],\n",
       "       [0, 0, 0],\n",
       "       [0, 0, 0]])"
      ]
     },
     "execution_count": 15,
     "metadata": {},
     "output_type": "execute_result"
    }
   ],
   "source": [
    "np.zeros([4, 3],\n",
    "         dtype = np.int32)"
   ]
  },
  {
   "cell_type": "code",
   "execution_count": 20,
   "id": "b3c14b42",
   "metadata": {},
   "outputs": [
    {
     "name": "stdout",
     "output_type": "stream",
     "text": [
      "2\n",
      "6\n",
      "(2, 3)\n",
      "int32\n",
      "4\n"
     ]
    }
   ],
   "source": [
    "import numpy as np\n",
    "\n",
    "# create a 2-D array \n",
    "array1 = np.array([[2, 4, 6],\n",
    "                  [1, 3, 5]])\n",
    "\n",
    "# check the dimension of array1\n",
    "print(array1.ndim) \n",
    "\n",
    "# return total number of elements in array1\n",
    "print(array1.size)\n",
    "\n",
    "# return a tuple that gives size of array in each dimension\n",
    "print(array1.shape)\n",
    "\n",
    "# check the data type of array1\n",
    "print(array1.dtype)\n",
    "\n",
    "# use of itemsize to determine size of each array element of array1 and array2\n",
    "print(array1.itemsize)"
   ]
  },
  {
   "cell_type": "code",
   "execution_count": 27,
   "id": "61e7c6eb",
   "metadata": {},
   "outputs": [
    {
     "name": "stdout",
     "output_type": "stream",
     "text": [
      "[1 3 5 7 9]\n",
      "[1 2 3 4 5 6 7 8 9]\n"
     ]
    }
   ],
   "source": [
    "#Providing Two arange Arguments\n",
    "arr1= np.arange(start=1, stop=10, step=2)\n",
    "print(arr1)\n",
    "\n",
    "arr2 = np.arange(start=1, stop=10)\n",
    "print(arr2)"
   ]
  },
  {
   "cell_type": "markdown",
   "id": "e93abb95",
   "metadata": {},
   "source": [
    "## Basic numpy operation"
   ]
  },
  {
   "cell_type": "code",
   "execution_count": 181,
   "id": "f4c92a68",
   "metadata": {},
   "outputs": [
    {
     "name": "stdout",
     "output_type": "stream",
     "text": [
      "[ 13  24 105 206 507]\n"
     ]
    }
   ],
   "source": [
    "#NumPy ADD Operator\n",
    "#We can also use the add operator “+” to perform addition of two arrays.\n",
    "import numpy as np\n",
    "a = np.array([10,20,100,200,500])\n",
    "b = np.array([3,4,5,6,7])\n",
    "print(a+b)"
   ]
  },
  {
   "cell_type": "code",
   "execution_count": 182,
   "id": "6b5f30c6",
   "metadata": {},
   "outputs": [
    {
     "data": {
      "text/plain": [
       "array([ 13,  24, 105, 206, 507])"
      ]
     },
     "execution_count": 182,
     "metadata": {},
     "output_type": "execute_result"
    }
   ],
   "source": [
    "np.add(a, b)"
   ]
  },
  {
   "cell_type": "code",
   "execution_count": 30,
   "id": "d79f992f",
   "metadata": {},
   "outputs": [
    {
     "data": {
      "text/plain": [
       "array([  7,  16,  95, 194, 493])"
      ]
     },
     "execution_count": 30,
     "metadata": {},
     "output_type": "execute_result"
    }
   ],
   "source": [
    "#NumPy Subtract Operator\n",
    "\n",
    "a = np.array([10,20,100,200,500])\n",
    "b = np.array([3,4,5,6,7])\n",
    "np.subtract(a, b)"
   ]
  },
  {
   "cell_type": "code",
   "execution_count": 31,
   "id": "c0a34dd1",
   "metadata": {},
   "outputs": [
    {
     "name": "stdout",
     "output_type": "stream",
     "text": [
      "[  7  16  95 194 493]\n"
     ]
    }
   ],
   "source": [
    "print(a-b)"
   ]
  },
  {
   "cell_type": "code",
   "execution_count": 32,
   "id": "35df0de8",
   "metadata": {},
   "outputs": [
    {
     "data": {
      "text/plain": [
       "array([21, 12, 20, 30,  7])"
      ]
     },
     "execution_count": 32,
     "metadata": {},
     "output_type": "execute_result"
    }
   ],
   "source": [
    "#NumPy Multiply function\n",
    "a = np.array([7,3,4,5,1])\n",
    "b = np.array([3,4,5,6,7])\n",
    "np.multiply(a, b)"
   ]
  },
  {
   "cell_type": "code",
   "execution_count": 33,
   "id": "805f1b75",
   "metadata": {},
   "outputs": [
    {
     "name": "stdout",
     "output_type": "stream",
     "text": [
      "[21 12 20 30  7]\n"
     ]
    }
   ],
   "source": [
    "print(a*b)"
   ]
  },
  {
   "cell_type": "code",
   "execution_count": 34,
   "id": "680320b7",
   "metadata": {},
   "outputs": [
    {
     "data": {
      "text/plain": [
       "array([2.33333333, 0.75      , 0.8       , 0.83333333, 0.14285714])"
      ]
     },
     "execution_count": 34,
     "metadata": {},
     "output_type": "execute_result"
    }
   ],
   "source": [
    "#NumPy Divide Function\n",
    "a = np.array([7,3,4,5,1])\n",
    "b = np.array([3,4,5,6,7])\n",
    "np.divide(a,b)"
   ]
  },
  {
   "cell_type": "code",
   "execution_count": 35,
   "id": "f7fb6835",
   "metadata": {},
   "outputs": [
    {
     "name": "stdout",
     "output_type": "stream",
     "text": [
      "[2.33333333 0.75       0.8        0.83333333 0.14285714]\n"
     ]
    }
   ],
   "source": [
    "print(a/b)"
   ]
  },
  {
   "cell_type": "code",
   "execution_count": 184,
   "id": "2b9007e5",
   "metadata": {},
   "outputs": [
    {
     "data": {
      "text/plain": [
       "array([1, 3, 4, 5, 1])"
      ]
     },
     "execution_count": 184,
     "metadata": {},
     "output_type": "execute_result"
    }
   ],
   "source": [
    "#NumPy Mod Function # Modulus\n",
    "#We use both the functions to output the remainder of the division of two arrays\n",
    "a = np.array([7,3,4,5,1])\n",
    "b = np.array([3,4,5,6,7])\n",
    "np.mod(a,b)"
   ]
  },
  {
   "cell_type": "code",
   "execution_count": 185,
   "id": "7711183f",
   "metadata": {},
   "outputs": [
    {
     "data": {
      "text/plain": [
       "array([1, 3, 4, 5, 1])"
      ]
     },
     "execution_count": 185,
     "metadata": {},
     "output_type": "execute_result"
    }
   ],
   "source": [
    "a%b"
   ]
  },
  {
   "cell_type": "code",
   "execution_count": 37,
   "id": "403eb643",
   "metadata": {},
   "outputs": [
    {
     "data": {
      "text/plain": [
       "array([1, 3, 4, 5, 1])"
      ]
     },
     "execution_count": 37,
     "metadata": {},
     "output_type": "execute_result"
    }
   ],
   "source": [
    "np.remainder(a,b)"
   ]
  },
  {
   "cell_type": "code",
   "execution_count": 48,
   "id": "88116851",
   "metadata": {},
   "outputs": [
    {
     "name": "stdout",
     "output_type": "stream",
     "text": [
      "[0 1 2 3 4 5]\n",
      "[ 6  7  8  9 10 11]\n",
      "Addition: [ 6  8 10 12 14 16]\n",
      "Subtraction: [-6 -6 -6 -6 -6 -6]\n",
      "Multiplication: [ 0  7 16 27 40 55]\n",
      "Division: [0.         0.14285714 0.25       0.33333333 0.4        0.45454545]\n",
      "Modulus: [0 1 2 3 4 5]\n",
      "Exponentiation: [       0        1      256    19683  1048576 48828125]\n"
     ]
    }
   ],
   "source": [
    "#Arithmetic Operators with single dimentional array\n",
    "# Create two arrays using np.arange\n",
    "a = np.arange(6)  # [0,1, 2, 3, 4, 5]\n",
    "b = np.arange(6,12)  \n",
    "\n",
    "# Element-wise arithmetic operations\n",
    "result_addition = a + b\n",
    "result_subtraction = a - b\n",
    "result_multiplication = a * b\n",
    "result_division = a / b\n",
    "result_modulus = a % b\n",
    "result_exponentiation = a ** b\n",
    "\n",
    "\n",
    "print(a)\n",
    "print(b)\n",
    "print(\"Addition:\", result_addition)\n",
    "print(\"Subtraction:\", result_subtraction)\n",
    "print(\"Multiplication:\", result_multiplication)\n",
    "print(\"Division:\", result_division)\n",
    "print(\"Modulus:\", result_modulus)\n",
    "print(\"Exponentiation:\", result_exponentiation)\n"
   ]
  },
  {
   "cell_type": "code",
   "execution_count": 10,
   "id": "4c30d727",
   "metadata": {},
   "outputs": [
    {
     "name": "stdout",
     "output_type": "stream",
     "text": [
      "[[ 0  1  2  3]\n",
      " [ 4  5  6  7]\n",
      " [ 8  9 10 11]]\n",
      "[[1. 1. 1. 1.]\n",
      " [1. 1. 1. 1.]\n",
      " [1. 1. 1. 1.]]\n"
     ]
    }
   ],
   "source": [
    "#Arithmetic Operators with multi dimentional array\n",
    "c = np.arange(0,12).reshape(3,4)    # 3X4 = 12  # 3 X 3 = 9 \n",
    "d = np.ones((3,4))\n",
    "\n",
    "\n",
    "print(c)\n",
    "print(d)"
   ]
  },
  {
   "cell_type": "code",
   "execution_count": 11,
   "id": "c91a05ae",
   "metadata": {},
   "outputs": [
    {
     "name": "stdout",
     "output_type": "stream",
     "text": [
      "Addition: [[ 1.  2.  3.  4.]\n",
      " [ 5.  6.  7.  8.]\n",
      " [ 9. 10. 11. 12.]]\n",
      "Subtraction: [[-1.  0.  1.  2.]\n",
      " [ 3.  4.  5.  6.]\n",
      " [ 7.  8.  9. 10.]]\n",
      "Multiplication: [[ 0.  1.  2.  3.]\n",
      " [ 4.  5.  6.  7.]\n",
      " [ 8.  9. 10. 11.]]\n",
      "Division: [[ 0.  1.  2.  3.]\n",
      " [ 4.  5.  6.  7.]\n",
      " [ 8.  9. 10. 11.]]\n",
      "Modulus: [[0. 0. 0. 0.]\n",
      " [0. 0. 0. 0.]\n",
      " [0. 0. 0. 0.]]\n",
      "Exponentiation: [[ 0.  1.  2.  3.]\n",
      " [ 4.  5.  6.  7.]\n",
      " [ 8.  9. 10. 11.]]\n"
     ]
    }
   ],
   "source": [
    "result_addition1 = c + d\n",
    "result_subtraction1 = c - d\n",
    "result_multiplication1 = c * d\n",
    "result_division1 = c / d\n",
    "result_modulus1 = c % d\n",
    "result_exponentiation1 = c ** d\n",
    "\n",
    "print(\"Addition:\", result_addition1)\n",
    "print(\"Subtraction:\", result_subtraction1)\n",
    "print(\"Multiplication:\", result_multiplication1)\n",
    "print(\"Division:\", result_division1)\n",
    "print(\"Modulus:\", result_modulus1)\n",
    "print(\"Exponentiation:\", result_exponentiation1)"
   ]
  },
  {
   "cell_type": "code",
   "execution_count": 13,
   "id": "df97723f",
   "metadata": {},
   "outputs": [
    {
     "data": {
      "text/plain": [
       "array([[ 0,  1,  2,  3],\n",
       "       [ 4,  5,  6,  7],\n",
       "       [ 8,  9, 10, 11]])"
      ]
     },
     "execution_count": 13,
     "metadata": {},
     "output_type": "execute_result"
    }
   ],
   "source": [
    "c = np.arange(0,12).reshape(3,4)\n",
    "c"
   ]
  },
  {
   "cell_type": "code",
   "execution_count": 14,
   "id": "da308344",
   "metadata": {},
   "outputs": [
    {
     "ename": "ValueError",
     "evalue": "cannot reshape array of size 12 into shape (2,4)",
     "output_type": "error",
     "traceback": [
      "\u001b[1;31m---------------------------------------------------------------------------\u001b[0m",
      "\u001b[1;31mValueError\u001b[0m                                Traceback (most recent call last)",
      "Cell \u001b[1;32mIn[14], line 2\u001b[0m\n\u001b[0;32m      1\u001b[0m \u001b[38;5;66;03m#Arithmetic Operators with multi dimentional array\u001b[39;00m\n\u001b[1;32m----> 2\u001b[0m c \u001b[38;5;241m=\u001b[39m \u001b[43mnp\u001b[49m\u001b[38;5;241;43m.\u001b[39;49m\u001b[43marange\u001b[49m\u001b[43m(\u001b[49m\u001b[38;5;241;43m0\u001b[39;49m\u001b[43m,\u001b[49m\u001b[38;5;241;43m12\u001b[39;49m\u001b[43m)\u001b[49m\u001b[38;5;241;43m.\u001b[39;49m\u001b[43mreshape\u001b[49m\u001b[43m(\u001b[49m\u001b[38;5;241;43m2\u001b[39;49m\u001b[43m,\u001b[49m\u001b[38;5;241;43m4\u001b[39;49m\u001b[43m)\u001b[49m\n\u001b[0;32m      3\u001b[0m c\n",
      "\u001b[1;31mValueError\u001b[0m: cannot reshape array of size 12 into shape (2,4)"
     ]
    }
   ],
   "source": [
    "#Arithmetic Operators with multi dimentional array\n",
    "c = np.arange(0,12).reshape(2,4)\n",
    "c"
   ]
  },
  {
   "cell_type": "code",
   "execution_count": 13,
   "id": "bbeeb00b",
   "metadata": {},
   "outputs": [
    {
     "name": "stdout",
     "output_type": "stream",
     "text": [
      "[[0 1 2]\n",
      " [3 4 5]\n",
      " [6 7 8]]\n",
      "[[ 5  6  7]\n",
      " [ 8  9 10]\n",
      " [11 12 13]]\n",
      "[[ 30  33  36]\n",
      " [102 114 126]\n",
      " [174 195 216]]\n"
     ]
    }
   ],
   "source": [
    "##Matrix product\n",
    "#(0*5) + (1*8) + (2*11) = 0 + 8 + 22 = 30\n",
    "#(0*6) + (1*9) + (2*12) = 0 + 9 + 24 = 33\n",
    "\n",
    "#(3*5) + (4*8) + (5*11) = 15 + 32 + 55 = 102\n",
    "#(3*6) + (4*9) + (5*12) = 18 + 36 + 60 = 114\n",
    "\n",
    "#(6*5) + (7*8) + (8*11) = 30 + 56 + 88 = 174\n",
    "#(6*6) + (7*9) + (8*12) = 36 + 63 + 96 = 195\n",
    "\n",
    "\n",
    "arr = np.arange(0,9).reshape(3,3)\n",
    "arr1 = np.arange(5,14).reshape(3,3)\n",
    "print(arr)\n",
    "print(arr1)\n",
    "\n",
    "print(np.dot(arr,arr1))"
   ]
  },
  {
   "cell_type": "code",
   "execution_count": 72,
   "id": "76e132cb",
   "metadata": {},
   "outputs": [
    {
     "name": "stdout",
     "output_type": "stream",
     "text": [
      "[[0 1 2]\n",
      " [3 4 5]\n",
      " [6 7 8]]\n",
      "[[1. 1. 1.]\n",
      " [1. 1. 1.]\n",
      " [1. 1. 1.]]\n",
      "[[ 3.  3.  3.]\n",
      " [12. 12. 12.]\n",
      " [21. 21. 21.]]\n"
     ]
    }
   ],
   "source": [
    "#Matrix product 0x1 = 0, 1x1=1 , 2x1= 2  (0+1+2)= 3\n",
    "e = np.arange(0,9).reshape(3,3)\n",
    "f = np.ones((3,3))\n",
    "\n",
    "\n",
    "print(e)\n",
    "\n",
    "print(f)\n",
    "\n",
    "print(np.dot(e,f))"
   ]
  },
  {
   "cell_type": "code",
   "execution_count": 12,
   "id": "733d96be",
   "metadata": {},
   "outputs": [
    {
     "name": "stdout",
     "output_type": "stream",
     "text": [
      "2\n"
     ]
    }
   ],
   "source": [
    "a=np.array([[1,2,3],[4,5,6],[6,7,8]])\n",
    "print(a.ndim)"
   ]
  },
  {
   "cell_type": "code",
   "execution_count": 13,
   "id": "c19d7741",
   "metadata": {},
   "outputs": [
    {
     "name": "stdout",
     "output_type": "stream",
     "text": [
      "[[1 2 3]\n",
      " [4 5 6]\n",
      " [6 7 8]]\n"
     ]
    }
   ],
   "source": [
    "print(a)"
   ]
  },
  {
   "cell_type": "markdown",
   "id": "e94031c8",
   "metadata": {},
   "source": [
    "## Hill Cipher using matrix product"
   ]
  },
  {
   "cell_type": "markdown",
   "id": "c29dbdba",
   "metadata": {},
   "source": [
    "The Hill Cipher is a cryptographic algorithm that falls under the category of polygraphic substitution ciphers. Unlike simple substitution ciphers that replace individual letters with other letters, polygraphic ciphers operate on groups of letters to enhance security. The Hill Cipher uses linear algebra concepts to encrypt and decrypt messages.\n",
    "\n",
    "Here's how the Hill Cipher works:\n",
    "\n",
    "Key Generation: The encryption key is a matrix (usually a square matrix) containing numerical values. This matrix is chosen carefully and kept secret between the sender and receiver.\n",
    "\n",
    "Encryption:The plaintext is divided into blocks of a fixed size (usually equal to the dimensions of the key matrix).\n",
    "Each block is represented as a matrix of numerical values, where each letter corresponds to a number (A=0, B=1, ..., Z=25).\n",
    "The key matrix is multiplied with each plaintext block matrix using matrix multiplication.\n",
    "The result is taken modulo 26 to ensure the values remain within the alphabet's range.\n",
    "The resulting numerical values are then converted back to letters to create the ciphertext.\n",
    "\n",
    "Decryption:The encrypted message (ciphertext) is divided into blocks, just like during encryption.\n",
    "The inverse of the key matrix (mod 26) is used to decrypt each block.\n",
    "The decryption process involves the same steps as encryption but uses the inverse key matrix."
   ]
  },
  {
   "cell_type": "markdown",
   "id": "33d9edf1",
   "metadata": {},
   "source": [
    "Plain Text: HE LLO\n",
    "Cipher Key: [11 9 8 17]\n",
    "\n",
    "Step-by-step encryption using modulo 26 and the provided approach:\n",
    "\n",
    "\n",
    "\n",
    "\n"
   ]
  },
  {
   "cell_type": "markdown",
   "id": "57673993",
   "metadata": {},
   "source": [
    "Key Size: The size of the key matrix should match the size of the blocks you're using for encryption. If you're encrypting text in blocks of 2 letters, you need a 2x2 key matrix; for blocks of 3 letters, you need a 3x3 key matrix, and so on.\n",
    "\n",
    "the key matrix's values are typically chosen from the set of integers modulo 26, because each letter in the alphabet is represented by a number modulo 26 (A=0, B=1, ..., Z=25). This ensures that the encryption and decryption operations stay within the range of the alphabet."
   ]
  },
  {
   "cell_type": "code",
   "execution_count": 168,
   "id": "d36c9fec",
   "metadata": {},
   "outputs": [],
   "source": [
    "# A   B   C   D   E   F   G   H   I   J   K   L   M   N  O   P   Q   R   S   T   U   V   W   X   Y   Z\n",
    "# 0   1   2   3   4   5   6   7   8   9  10  11  12  13  14  15  16  17  18  19  20  21  22  23  24  25"
   ]
  },
  {
   "cell_type": "code",
   "execution_count": 1,
   "id": "9ab0895b",
   "metadata": {},
   "outputs": [],
   "source": [
    "#Step 1: Import the libraries\n",
    "\n",
    "import numpy as np"
   ]
  },
  {
   "cell_type": "code",
   "execution_count": 2,
   "id": "edfc4928",
   "metadata": {},
   "outputs": [
    {
     "name": "stdout",
     "output_type": "stream",
     "text": [
      "[7 4]\n",
      "[[11  9]\n",
      " [ 8 17]]\n"
     ]
    }
   ],
   "source": [
    "# Step 2: Create numpy array a as first column of plain text and array b as key\n",
    "a = np.array([7, 4])  # H E\n",
    "b = np.array([[11, 9], [8, 17]])  # key\n",
    "print(a)\n",
    "print(b)"
   ]
  },
  {
   "cell_type": "markdown",
   "id": "be3a707b",
   "metadata": {},
   "source": [
    "You're creating an array a to represent the first column of the plain text \"ed\" as numbers [4, 3]. "
   ]
  },
  {
   "cell_type": "code",
   "execution_count": 3,
   "id": "a68db2d1",
   "metadata": {},
   "outputs": [
    {
     "name": "stdout",
     "output_type": "stream",
     "text": [
      "[109 131]\n"
     ]
    }
   ],
   "source": [
    "# Step 3: Perform matrix product between array a and b\n",
    "c = np.dot(a, b)\n",
    "print(c)"
   ]
  },
  {
   "cell_type": "code",
   "execution_count": 4,
   "id": "9f25e1eb",
   "metadata": {},
   "outputs": [
    {
     "data": {
      "text/plain": [
       "5"
      ]
     },
     "execution_count": 4,
     "metadata": {},
     "output_type": "execute_result"
    }
   ],
   "source": [
    "109%26"
   ]
  },
  {
   "cell_type": "markdown",
   "id": "97c84f58",
   "metadata": {},
   "source": [
    "Here, you're performing matrix multiplication between array a and key matrix b, resulting in the array c."
   ]
  },
  {
   "cell_type": "code",
   "execution_count": 5,
   "id": "e08845dd",
   "metadata": {},
   "outputs": [
    {
     "name": "stdout",
     "output_type": "stream",
     "text": [
      "h= [5 1]\n"
     ]
    }
   ],
   "source": [
    "# Step 4: Perform encryption of plain text using mod function\n",
    "h = np.mod(c,26)\n",
    "print(\"h=\",h)"
   ]
  },
  {
   "cell_type": "markdown",
   "id": "49408d92",
   "metadata": {},
   "source": [
    "You're applying the modulo 26 operation to the values in array c, which represents the intermediate result of the matrix multiplication. This ensures that the resulting numbers are within the range of the alphabet (0-25)\n"
   ]
  },
  {
   "cell_type": "code",
   "execution_count": 6,
   "id": "b7a787bf",
   "metadata": {},
   "outputs": [],
   "source": [
    "# Step 5: Create numpy array d of second column of plain text and array b as key\n",
    "d = np.array([4, 11])  # E L"
   ]
  },
  {
   "cell_type": "code",
   "execution_count": 7,
   "id": "274e2d85",
   "metadata": {},
   "outputs": [
    {
     "name": "stdout",
     "output_type": "stream",
     "text": [
      "[132 223]\n"
     ]
    }
   ],
   "source": [
    "#Step 6: Perform matrix product between array d and b\n",
    "f = np.dot(d, b)\n",
    "print(f)"
   ]
  },
  {
   "cell_type": "code",
   "execution_count": 8,
   "id": "5906b436",
   "metadata": {},
   "outputs": [
    {
     "data": {
      "text/plain": [
       "2"
      ]
     },
     "execution_count": 8,
     "metadata": {},
     "output_type": "execute_result"
    }
   ],
   "source": [
    "132 % 26"
   ]
  },
  {
   "cell_type": "code",
   "execution_count": 9,
   "id": "651b4175",
   "metadata": {},
   "outputs": [
    {
     "name": "stdout",
     "output_type": "stream",
     "text": [
      "h1= [ 2 15]\n"
     ]
    }
   ],
   "source": [
    "#Step 7: Perform encyption of plain text using mod function\n",
    "h1 = np.mod(f, 26)\n",
    "print(\"h1=\", h1)"
   ]
  },
  {
   "cell_type": "markdown",
   "id": "47024e8c",
   "metadata": {},
   "source": [
    "This gives you the encrypted result for the second column."
   ]
  },
  {
   "cell_type": "code",
   "execution_count": 10,
   "id": "05b48bdf",
   "metadata": {},
   "outputs": [
    {
     "name": "stdout",
     "output_type": "stream",
     "text": [
      "[11 11]\n"
     ]
    }
   ],
   "source": [
    "#Step 8:Create a numpy array g of last column of plain text and array b as key\n",
    "#For the third column \"LL\":\n",
    "g = np.array([11, 11])  # L L\n",
    "print(g)"
   ]
  },
  {
   "cell_type": "code",
   "execution_count": 11,
   "id": "58a568ff",
   "metadata": {},
   "outputs": [
    {
     "name": "stdout",
     "output_type": "stream",
     "text": [
      "[209 286]\n"
     ]
    }
   ],
   "source": [
    "#Step 9: Perform matrix product between array g and b\n",
    "j = np.dot(g, b)\n",
    "print(j)\n"
   ]
  },
  {
   "cell_type": "code",
   "execution_count": 12,
   "id": "a3967392",
   "metadata": {},
   "outputs": [
    {
     "name": "stdout",
     "output_type": "stream",
     "text": [
      "h2 [1 0]\n"
     ]
    }
   ],
   "source": [
    "#Step 10: Perform encyption of plain text using mod function\n",
    "h2 = np.mod(j, 26)\n",
    "print(\"h2\", h2)"
   ]
  },
  {
   "cell_type": "code",
   "execution_count": 13,
   "id": "1f656a4e",
   "metadata": {},
   "outputs": [],
   "source": [
    "#Step 11:Create a numpy array g of last column of plain text and array b as key\n",
    "#For the fourth column \"LO\":\n",
    "k = np.array([11, 14])  # L O\n",
    "\n"
   ]
  },
  {
   "cell_type": "code",
   "execution_count": 14,
   "id": "c6ffbccb",
   "metadata": {},
   "outputs": [
    {
     "name": "stdout",
     "output_type": "stream",
     "text": [
      "[233 337]\n"
     ]
    }
   ],
   "source": [
    "#Step 12: Perform matrix product between array g and b\n",
    "m = np.dot(k, b)\n",
    "print(m)"
   ]
  },
  {
   "cell_type": "code",
   "execution_count": 16,
   "id": "e7811961",
   "metadata": {},
   "outputs": [
    {
     "data": {
      "text/plain": [
       "25"
      ]
     },
     "execution_count": 16,
     "metadata": {},
     "output_type": "execute_result"
    }
   ],
   "source": [
    "233%26"
   ]
  },
  {
   "cell_type": "code",
   "execution_count": 17,
   "id": "3c5e5143",
   "metadata": {},
   "outputs": [
    {
     "name": "stdout",
     "output_type": "stream",
     "text": [
      "h3 [25 25]\n"
     ]
    }
   ],
   "source": [
    "#Step 10: Perform encyption of plain text using mod function\n",
    "h3 = np.mod(m, 26)\n",
    "print(\"h3\", h3)"
   ]
  },
  {
   "cell_type": "code",
   "execution_count": 18,
   "id": "a18d27ec",
   "metadata": {},
   "outputs": [
    {
     "data": {
      "text/plain": [
       "(array([5, 1], dtype=int32),\n",
       " array([ 2, 15], dtype=int32),\n",
       " array([1, 0], dtype=int32),\n",
       " array([25, 25], dtype=int32))"
      ]
     },
     "execution_count": 18,
     "metadata": {},
     "output_type": "execute_result"
    }
   ],
   "source": [
    "h , h1,h2, h3"
   ]
  },
  {
   "cell_type": "markdown",
   "id": "9c0ba0f4",
   "metadata": {},
   "source": [
    "Convert the resulting numbers [5, 1], [2, 15], [1, 0], and [25, 25] back to letters using the mapping A=0, B=1, ..., Z=25:\n",
    "\n",
    "[5, 1] becomes \"FB\"\n",
    "\n",
    "[2, 15] becomes \"CP\"\n",
    "\n",
    "[1, 0] becomes \"BA\"\n",
    "\n",
    "[25, 25] becomes \"ZZ\"\n",
    "\n",
    "So, the encrypted message for the plain text \"HELLO\" using the key matrix [11 9 8 17] and the provided approach with modulo 26 operation is \"FBCPBAZZ\".So Plain Text in encypted format will be \"FBCPBAZZ\""
   ]
  },
  {
   "cell_type": "code",
   "execution_count": null,
   "id": "e3a1eba2",
   "metadata": {},
   "outputs": [],
   "source": [
    "# A   B   C   D   E   F   G   H   I   J   K   L   M   N  O   P   Q   R   S   T   U   V   W   X   Y   Z\n",
    "# 0   1   2   3   4   5   6   7   8   9  10  11  12  13  14  15  16  17  18  19  20  21  22  23  24  25"
   ]
  },
  {
   "cell_type": "code",
   "execution_count": 11,
   "id": "0b312e34-904a-48a5-b8ad-bf62b22fe335",
   "metadata": {},
   "outputs": [
    {
     "name": "stdout",
     "output_type": "stream",
     "text": [
      "Size of the list: 104 bytes\n",
      "Size of the 1-D array: 20 bytes\n",
      "Size of the 2-D array: 40 bytes\n",
      "Size of the 3-D array: 80 bytes\n",
      "Size of each element in the list: 28 bytes\n",
      "Size of each element in the 1-D array: 4 bytes\n",
      "Size of each element in the 2-D array: 4 bytes\n",
      "Size of each element in the 3-D array: 4 bytes\n"
     ]
    }
   ],
   "source": [
    "# Write a Python program to declare a list and NumPy arrays(1-D, 2-D, and\n",
    "# 3-D) and compare the size of the list and the arrays. Also, compare the\n",
    "# size of each element in the list and the arrays (in terms of memory\n",
    "# occupancy). \n",
    "\n",
    "import numpy as np\n",
    "import sys\n",
    "\n",
    "# Declare a list\n",
    "my_list = [1, 2, 3, 4, 5]\n",
    "\n",
    "# Declare NumPy arrays\n",
    "array_1d = np.array([1, 2, 3, 4, 5])\n",
    "array_2d = np.array([[1, 2, 3, 4, 5], [6, 7, 8, 9, 10]])\n",
    "array_3d = np.array([[[1, 2, 3, 4, 5], [6, 7, 8, 9, 10]], [[11, 12, 13, 14, 15], [16, 17, 18, 19, 20]]])\n",
    "\n",
    "# Compare the size of the list and the arrays\n",
    "size_list = sys.getsizeof(my_list)\n",
    "size_array_1d = array_1d.nbytes\n",
    "size_array_2d = array_2d.nbytes\n",
    "size_array_3d = array_3d.nbytes\n",
    "\n",
    "print(\"Size of the list:\", size_list, \"bytes\")\n",
    "print(\"Size of the 1-D array:\", size_array_1d, \"bytes\")\n",
    "print(\"Size of the 2-D array:\", size_array_2d, \"bytes\")\n",
    "print(\"Size of the 3-D array:\", size_array_3d, \"bytes\")\n",
    "\n",
    "# Compare the size of each element in the list and the arrays\n",
    "# For the list, we will use the size of an element directly\n",
    "# For NumPy arrays, we use the itemsize attribute\n",
    "\n",
    "element_size_list = sys.getsizeof(my_list[0])\n",
    "element_size_array_1d = array_1d.itemsize\n",
    "element_size_array_2d = array_2d.itemsize\n",
    "element_size_array_3d = array_3d.itemsize\n",
    "\n",
    "print(\"Size of each element in the list:\", element_size_list, \"bytes\")\n",
    "print(\"Size of each element in the 1-D array:\", element_size_array_1d, \"bytes\")\n",
    "print(\"Size of each element in the 2-D array:\", element_size_array_2d, \"bytes\")\n",
    "print(\"Size of each element in the 3-D array:\", element_size_array_3d, \"bytes\")"
   ]
  }
 ],
 "metadata": {
  "kernelspec": {
   "display_name": "Python 3 (ipykernel)",
   "language": "python",
   "name": "python3"
  },
  "language_info": {
   "codemirror_mode": {
    "name": "ipython",
    "version": 3
   },
   "file_extension": ".py",
   "mimetype": "text/x-python",
   "name": "python",
   "nbconvert_exporter": "python",
   "pygments_lexer": "ipython3",
   "version": "3.12.4"
  }
 },
 "nbformat": 4,
 "nbformat_minor": 5
}
